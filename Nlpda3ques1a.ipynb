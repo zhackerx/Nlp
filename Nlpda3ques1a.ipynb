{
  "nbformat": 4,
  "nbformat_minor": 0,
  "metadata": {
    "colab": {
      "name": "Nlpda3ques1a.ipynb",
      "provenance": [],
      "include_colab_link": true
    },
    "kernelspec": {
      "name": "python3",
      "display_name": "Python 3"
    }
  },
  "cells": [
    {
      "cell_type": "markdown",
      "metadata": {
        "id": "view-in-github",
        "colab_type": "text"
      },
      "source": [
        "<a href=\"https://colab.research.google.com/github/zhackerx/Nlp/blob/master/Nlpda3ques1a.ipynb\" target=\"_parent\"><img src=\"https://colab.research.google.com/assets/colab-badge.svg\" alt=\"Open In Colab\"/></a>"
      ]
    },
    {
      "cell_type": "code",
      "metadata": {
        "id": "ZfDV_yGZ0w9e",
        "colab_type": "code",
        "colab": {
          "base_uri": "https://localhost:8080/",
          "height": 34
        },
        "outputId": "868e6fe9-e88a-4f78-d611-1045f97ec3cd"
      },
      "source": [
        "from google.colab import drive\n",
        "drive.mount('/content/drive')"
      ],
      "execution_count": 51,
      "outputs": [
        {
          "output_type": "stream",
          "text": [
            "Drive already mounted at /content/drive; to attempt to forcibly remount, call drive.mount(\"/content/drive\", force_remount=True).\n"
          ],
          "name": "stdout"
        }
      ]
    },
    {
      "cell_type": "code",
      "metadata": {
        "id": "dICIHQ9YRidQ",
        "colab_type": "code",
        "colab": {}
      },
      "source": [
        "import json\n",
        "import pandas as pd\n",
        "from bs4 import BeautifulSoup \n",
        "import requests\n",
        "import re"
      ],
      "execution_count": 0,
      "outputs": []
    },
    {
      "cell_type": "code",
      "metadata": {
        "id": "atgTRCkhTA9w",
        "colab_type": "code",
        "outputId": "7f9083cb-fd8a-4ae8-f216-a10f0ba4f62d",
        "colab": {
          "base_uri": "https://localhost:8080/",
          "height": 204
        }
      },
      "source": [
        "dframe = pd.read_csv('/content/drive/My Drive/GMB_dataset.txt', sep='\\t', encoding=\"latin1\")\n",
        "dframe.dropna(inplace=True)\n",
        "dframe[dframe.isnull().any(axis=1)].size\n",
        "dframe.head()"
      ],
      "execution_count": 60,
      "outputs": [
        {
          "output_type": "execute_result",
          "data": {
            "text/html": [
              "<div>\n",
              "<style scoped>\n",
              "    .dataframe tbody tr th:only-of-type {\n",
              "        vertical-align: middle;\n",
              "    }\n",
              "\n",
              "    .dataframe tbody tr th {\n",
              "        vertical-align: top;\n",
              "    }\n",
              "\n",
              "    .dataframe thead th {\n",
              "        text-align: right;\n",
              "    }\n",
              "</style>\n",
              "<table border=\"1\" class=\"dataframe\">\n",
              "  <thead>\n",
              "    <tr style=\"text-align: right;\">\n",
              "      <th></th>\n",
              "      <th>Unnamed: 0</th>\n",
              "      <th>Sentence #</th>\n",
              "      <th>Word</th>\n",
              "      <th>POS</th>\n",
              "      <th>Tag</th>\n",
              "    </tr>\n",
              "  </thead>\n",
              "  <tbody>\n",
              "    <tr>\n",
              "      <th>0</th>\n",
              "      <td>0</td>\n",
              "      <td>1.0</td>\n",
              "      <td>Thousands</td>\n",
              "      <td>NNS</td>\n",
              "      <td>O</td>\n",
              "    </tr>\n",
              "    <tr>\n",
              "      <th>1</th>\n",
              "      <td>1</td>\n",
              "      <td>1.0</td>\n",
              "      <td>of</td>\n",
              "      <td>IN</td>\n",
              "      <td>O</td>\n",
              "    </tr>\n",
              "    <tr>\n",
              "      <th>2</th>\n",
              "      <td>2</td>\n",
              "      <td>1.0</td>\n",
              "      <td>demonstrators</td>\n",
              "      <td>NNS</td>\n",
              "      <td>O</td>\n",
              "    </tr>\n",
              "    <tr>\n",
              "      <th>3</th>\n",
              "      <td>3</td>\n",
              "      <td>1.0</td>\n",
              "      <td>have</td>\n",
              "      <td>VBP</td>\n",
              "      <td>O</td>\n",
              "    </tr>\n",
              "    <tr>\n",
              "      <th>4</th>\n",
              "      <td>4</td>\n",
              "      <td>1.0</td>\n",
              "      <td>marched</td>\n",
              "      <td>VBN</td>\n",
              "      <td>O</td>\n",
              "    </tr>\n",
              "  </tbody>\n",
              "</table>\n",
              "</div>"
            ],
            "text/plain": [
              "   Unnamed: 0  Sentence #           Word  POS Tag\n",
              "0           0         1.0      Thousands  NNS   O\n",
              "1           1         1.0             of   IN   O\n",
              "2           2         1.0  demonstrators  NNS   O\n",
              "3           3         1.0           have  VBP   O\n",
              "4           4         1.0        marched  VBN   O"
            ]
          },
          "metadata": {
            "tags": []
          },
          "execution_count": 60
        }
      ]
    },
    {
      "cell_type": "code",
      "metadata": {
        "id": "KpDoEfVoY1zN",
        "colab_type": "code",
        "colab": {}
      },
      "source": [
        "mapping = dframe.set_index('Word').to_dict()['POS']"
      ],
      "execution_count": 0,
      "outputs": []
    },
    {
      "cell_type": "markdown",
      "metadata": {
        "id": "2IZrTtCR230c",
        "colab_type": "text"
      },
      "source": [
        "## Now we scrape the Hindu article of our choice to get the paragraph"
      ]
    },
    {
      "cell_type": "code",
      "metadata": {
        "id": "w4zPMlx2aEZV",
        "colab_type": "code",
        "outputId": "81dcbf6e-441e-48af-f1af-5e7ccb13dbf1",
        "colab": {
          "base_uri": "https://localhost:8080/",
          "height": 88
        }
      },
      "source": [
        "print('Enter the url:')\n",
        "url = input()\n",
        "res = requests.get(url)\n",
        "soup = BeautifulSoup(res.text, 'html.parser')\n",
        "paras = []\n",
        "content = soup.findAll('div',attrs={\"id\":re.compile(\"^content-body\")})\n",
        "for x in content:\n",
        "    temp = x.findAll('p')\n",
        "    for i in temp:\n",
        "        paras.append(i.getText())\n",
        "paras = \" \".join(paras)\n",
        "paras = paras.replace(\"\\n\",\"\")\n",
        "paras = paras.replace(\"\\xa0\", \".\")\n",
        "paras"
      ],
      "execution_count": 63,
      "outputs": [
        {
          "output_type": "stream",
          "text": [
            "Enter the url:\n",
            "https://www.thehindu.com/opinion/editorial/winning-formula-the-hindu-editorial-on-revival-of-formula-one/article31761427.ece\n"
          ],
          "name": "stdout"
        },
        {
          "output_type": "execute_result",
          "data": {
            "text/plain": [
              "'Just as the various global sporting leagues slowly revive, Formula One will do so too following the announcement of an eight-race revised calendar starting with a double-header in Austria during July. Earlier, the season-opening Australian Grand Prix in March was cancelled at the eleventh hour after the whole contingent gathered at Melbourne when a member of the McLaren Formula One team tested positive for COVID-19. Since then, the sport has witnessed its first 10 rounds of the 22-race calendar either being cancelled or postponed. Recently the German football league, Bundesliga, restarted its season, while the Premier League is scheduled to commence later this month. However, unlike football or other domestic leagues that are localised and can be played in a controlled environment, F1 faces unique challenges due to its global footprint that hops across five continents through the year. It also requires a huge amount of personnel and cargo movements to run an event. With travel curbs across the world, the sport has restricted the initial eight races to its spiritual home of Europe, with Austria and Britain hosting multiple events. F1 has now adopted a set of operating procedures to get the show back on track, with every participant to be tested before and during the race weekend. Apart from there being no spectators, only 80 members per team will be allowed at the race track while the broadcast crew will be a mere 60. The reworked F1 will have 1,200 essential staff, previously close to 5,000. More importantly, with even a small-sized team employing nearly 300 to 400, from engineers to mechanics, the sport needs a start to keep the teams afloat not just this year but beyond as well. The F1 Group has already pledged to pay 100% of prize money to the teams, and for that it needs the show to go on. A minimum of eight races is needed to constitute a world championship and it is understood 15-18 races are required in a year to maximise the TV rights revenues especially at a time when the race-hosting fees, a major component of the F1 group’s revenue, is unlikely to be paid by the various countries. With jobs at stake, Formula One has made the right call to make its best attempt at starting the season. At the same time, the sport needs to be nimble to make quick decisions in case of unexpected scenarios, and the lessons learnt from Australia should hold the organisers in good stead. If F1 can demonstrate a good restart, it will inspire the rest of the sporting industry to get back on its feet.'"
            ]
          },
          "metadata": {
            "tags": []
          },
          "execution_count": 63
        }
      ]
    },
    {
      "cell_type": "markdown",
      "metadata": {
        "id": "19xZ_erU5b6d",
        "colab_type": "text"
      },
      "source": [
        "## Assign tag to any word that has a value in our mapping and write the result as a JSON object in entity1.txt"
      ]
    },
    {
      "cell_type": "code",
      "metadata": {
        "id": "gRkjcPD5aMJl",
        "colab_type": "code",
        "colab": {}
      },
      "source": [
        "words = paras.split(\" \")\n",
        "result = {}\n",
        "for i in words:\n",
        "  if i in mapping.keys():\n",
        "    result[i] = mapping[i]\n",
        "with open('entity1.txt', 'w') as file:\n",
        "     file.write(json.dumps(result))"
      ],
      "execution_count": 0,
      "outputs": []
    },
    {
      "cell_type": "markdown",
      "metadata": {
        "id": "_nQGdwAf69xZ",
        "colab_type": "text"
      },
      "source": [
        "## Here are some of the drawbacks of this approach:\n",
        "- English is a massive language. The corpus used may not have the entity tags for some important words.\n",
        "- Some words might be mis-tagged since the corpus gets its tags from sentences it has seen. It may be possible that the word used in the sentence is not in the same sense or meaning as the one used in the corpus.\n",
        "\\\n"
      ]
    },
    {
      "cell_type": "code",
      "metadata": {
        "id": "5vfWe3jn_Zg5",
        "colab_type": "code",
        "colab": {}
      },
      "source": [
        ""
      ],
      "execution_count": 0,
      "outputs": []
    }
  ]
}